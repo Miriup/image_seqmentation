{
 "cells": [
  {
   "cell_type": "markdown",
   "id": "c0805109-1b6e-42b7-a388-b0cfeb146b74",
   "metadata": {},
   "source": [
    "Es ist mir schleierhaft, warum das notwendig ist:"
   ]
  },
  {
   "cell_type": "code",
   "execution_count": 3,
   "id": "a5b85a3b-6347-4d6d-a8b5-9c9492f366d1",
   "metadata": {},
   "outputs": [
    {
     "data": {
      "text/plain": [
       "['/home/dirk/.virtualenv/image_segmentation/lib/python3.11/site-packages',\n",
       " '/usr/lib/python311.zip',\n",
       " '/usr/lib/python3.11',\n",
       " '/usr/lib/python3.11/lib-dynload',\n",
       " '',\n",
       " '/usr/lib/python3.11/site-packages']"
      ]
     },
     "execution_count": 3,
     "metadata": {},
     "output_type": "execute_result"
    }
   ],
   "source": [
    "import os,sys\n",
    "LOCAL_PATH=os.environ['HOME'] + '/.virtualenv/image_segmentation/lib/python3.11/site-packages'\n",
    "if LOCAL_PATH not in sys.path:\n",
    "    sys.path.insert(0,LOCAL_PATH)\n",
    "sys.path"
   ]
  },
  {
   "cell_type": "code",
   "execution_count": 6,
   "id": "38e62263-984f-4af3-b20b-ad0e405699e2",
   "metadata": {},
   "outputs": [],
   "source": [
    "import cv2\n",
    "import numpy as np\n",
    "import matplotlib.pyplot as plt\n",
    "from segment_anything import sam_model_registry, SamAutomaticMaskGenerator\n"
   ]
  },
  {
   "cell_type": "code",
   "execution_count": 7,
   "id": "e7e39a8c-67f5-4f9f-8d5a-1af4204bc36c",
   "metadata": {},
   "outputs": [
    {
     "name": "stderr",
     "output_type": "stream",
     "text": [
      "/home/dirk/.virtualenv/image_segmentation/lib/python3.11/site-packages/segment_anything/build_sam.py:105: FutureWarning: You are using `torch.load` with `weights_only=False` (the current default value), which uses the default pickle module implicitly. It is possible to construct malicious pickle data which will execute arbitrary code during unpickling (See https://github.com/pytorch/pytorch/blob/main/SECURITY.md#untrusted-models for more details). In a future release, the default value for `weights_only` will be flipped to `True`. This limits the functions that could be executed during unpickling. Arbitrary objects will no longer be allowed to be loaded via this mode unless they are explicitly allowlisted by the user via `torch.serialization.add_safe_globals`. We recommend you start setting `weights_only=True` for any use case where you don't have full control of the loaded file. Please open an issue on GitHub for any issues related to this experimental feature.\n",
      "  state_dict = torch.load(f)\n"
     ]
    }
   ],
   "source": [
    "# SAM-Modell laden (Modell und Gewichtspfad anpassen)\n",
    "model_type = \"vit_h\"  # Optionen: \"vit_b\", \"vit_l\", \"vit_h\"\n",
    "checkpoint_path = \"sam_vit_h_4b8939.pth\"  # Lade dies von der offiziellen SAM-Repository\n",
    "sam = sam_model_registry[model_type](checkpoint=checkpoint_path)"
   ]
  },
  {
   "cell_type": "code",
   "execution_count": 8,
   "id": "77622581-5991-483f-adb9-d577af973de3",
   "metadata": {},
   "outputs": [],
   "source": [
    "# Automatic Mask Generator mit erweiterten Parametern initialisieren\n",
    "mask_generator = SamAutomaticMaskGenerator(\n",
    "    sam,\n",
    "    points_per_side=32,  # Erhöht die Maskenauflösung\n",
    "    pred_iou_thresh=0.9,  # Höhere Genauigkeit der Masken\n",
    "    stability_score_thresh=0.9,  # Nur stabile Masken verwenden\n",
    "    min_mask_region_area=1000,  # Minimale Maskengröße (in Pixeln)\n",
    ")\n"
   ]
  },
  {
   "cell_type": "code",
   "execution_count": 9,
   "id": "9d79fdff-09d6-42c5-8211-49b4f87c24b6",
   "metadata": {},
   "outputs": [],
   "source": [
    "# Bildpfad laden\n",
    "image_path = \"../sisax-hackathon/assets/IMG_5086.jpg\"\n",
    "image = cv2.imread(image_path)\n",
    "image = cv2.cvtColor(image, cv2.COLOR_BGR2RGB)"
   ]
  },
  {
   "cell_type": "code",
   "execution_count": null,
   "id": "11d5063b-c6d0-4ac7-bd0b-5e7249c3cfcb",
   "metadata": {},
   "outputs": [],
   "source": [
    "# Segmentierung durchführen\n",
    "masks = mask_generator.generate(image)"
   ]
  },
  {
   "cell_type": "code",
   "execution_count": null,
   "id": "706a9891-df60-4977-95fd-c333e421a8e7",
   "metadata": {},
   "outputs": [],
   "source": [
    "# Ergebnisse visualisieren und Masken speichern\n",
    "def show_anns(image, masks):\n",
    "    if len(masks) == 0:\n",
    "        print(\"Keine Segmente gefunden!\")\n",
    "        return\n",
    "    \n",
    "    annotated_image = image.copy()\n",
    "    for mask in masks:\n",
    "        # Zeichne jede Maske grün und speichere sie separat\n",
    "        annotated_image[mask[\"segmentation\"]] = [0, 255, 0]\n",
    "        \n",
    "    # Zeige die annotierte Version\n",
    "    plt.figure(figsize=(10, 10))\n",
    "    plt.imshow(annotated_image)\n",
    "    plt.axis(\"off\")\n",
    "    plt.show()\n",
    "\n",
    "    # Optional: Speichere das annotierte Bild\n",
    "    cv2.imwrite(\"segmented_output.png\", cv2.cvtColor(annotated_image, cv2.COLOR_RGB2BGR))\n"
   ]
  },
  {
   "cell_type": "code",
   "execution_count": null,
   "id": "570134a2-433b-49d7-ba71-c99b01562021",
   "metadata": {},
   "outputs": [],
   "source": [
    "# Anzeigen der Segmente\n",
    "show_anns(image, masks)"
   ]
  },
  {
   "cell_type": "code",
   "execution_count": null,
   "id": "62812f7a-a53c-41d2-be27-425af3b791b2",
   "metadata": {},
   "outputs": [],
   "source": [
    "# Bounding-Boxen zeichnen\n",
    "def draw_bounding_boxes(image, masks):\n",
    "    boxed_image = image.copy()\n",
    "    for mask in masks:\n",
    "        # Berechne die Bounding-Box der Maske\n",
    "        coords = np.where(mask[\"segmentation\"])\n",
    "        y_min, y_max = np.min(coords[0]), np.max(coords[0])\n",
    "        x_min, x_max = np.min(coords[1]), np.max(coords[1])\n",
    "        \n",
    "        # Zeichne die Bounding-Box\n",
    "        cv2.rectangle(boxed_image, (x_min, y_min), (x_max, y_max), (255, 0, 0), 2)  # Blau für Boxen\n",
    "    \n",
    "    plt.figure(figsize=(10, 10))\n",
    "    plt.imshow(boxed_image)\n",
    "    plt.axis(\"off\")\n",
    "    plt.show()\n",
    "    \n",
    "    # Optional: Speichere das Bild mit Bounding-Boxen\n",
    "    cv2.imwrite(\"segmented_with_boxes.png\", cv2.cvtColor(boxed_image, cv2.COLOR_RGB2BGR))"
   ]
  },
  {
   "cell_type": "code",
   "execution_count": null,
   "id": "de78c717-92de-4530-98c1-545bbb75704f",
   "metadata": {},
   "outputs": [],
   "source": [
    "# Bounding-Boxen zeichnen\n",
    "draw_bounding_boxes(image, masks)"
   ]
  }
 ],
 "metadata": {
  "kernelspec": {
   "display_name": "Python 3 (ipykernel)",
   "language": "python",
   "name": "python3"
  },
  "language_info": {
   "codemirror_mode": {
    "name": "ipython",
    "version": 3
   },
   "file_extension": ".py",
   "mimetype": "text/x-python",
   "name": "python",
   "nbconvert_exporter": "python",
   "pygments_lexer": "ipython3",
   "version": "3.11.10"
  }
 },
 "nbformat": 4,
 "nbformat_minor": 5
}
